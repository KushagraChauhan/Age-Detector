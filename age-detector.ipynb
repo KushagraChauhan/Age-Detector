{
 "cells": [
  {
   "cell_type": "markdown",
   "metadata": {},
   "source": [
    "This Jupyter Notebook will guide you on how to make a age detector using OpenCV and Deep Learning"
   ]
  },
  {
   "cell_type": "code",
   "execution_count": 1,
   "metadata": {},
   "outputs": [],
   "source": [
    "import numpy as np\n",
    "import cv2\n",
    "import os\n"
   ]
  },
  {
   "cell_type": "code",
   "execution_count": 2,
   "metadata": {},
   "outputs": [],
   "source": [
    "AGE_BUCKETS = [\"(0-2)\", \"(4-6)\", \"(8-12)\", \"(15-20)\", \"(25-32)\",\n",
    "\t\"(38-43)\", \"(48-53)\", \"(60-100)\"]\n"
   ]
  },
  {
   "cell_type": "markdown",
   "metadata": {},
   "source": [
    "Load our face-detector which is taken from the opencv repo."
   ]
  },
  {
   "cell_type": "code",
   "execution_count": 3,
   "metadata": {},
   "outputs": [],
   "source": [
    "prototxtPath = os.path.join(\"face_detector/deploy.prototxt\")\n",
    "weightsPath = os.path.join(\"face_detector/res10_300x300_ssd_iter_140000.caffemodel\")\n",
    "faceNet = cv2.dnn.readNet(prototxtPath, weightsPath)"
   ]
  },
  {
   "cell_type": "markdown",
   "metadata": {},
   "source": [
    "Load our age-detector model"
   ]
  },
  {
   "cell_type": "code",
   "execution_count": 4,
   "metadata": {},
   "outputs": [],
   "source": [
    "prototxtPath = os.path.join( \"age_detector/age_deploy.prototxt\")\n",
    "weightsPath = os.path.join(\"age_detector/age_net.caffemodel\")\n",
    "ageNet = cv2.dnn.readNet(prototxtPath, weightsPath)"
   ]
  },
  {
   "cell_type": "code",
   "execution_count": 5,
   "metadata": {},
   "outputs": [],
   "source": [
    "img = cv2.imread(\"images/katrina-kaif.jpg\")\n",
    "image = cv2.resize(img, (300,300))\n",
    "(h, w) = image.shape[:2]\n",
    "blob = cv2.dnn.blobFromImage(image, 1.0, (300, 300),\n",
    "\t(104.0, 177.0, 123.0))\n"
   ]
  },
  {
   "cell_type": "code",
   "execution_count": 6,
   "metadata": {},
   "outputs": [
    {
     "name": "stdout",
     "output_type": "stream",
     "text": [
      "[INFO] computing face detections...\n"
     ]
    }
   ],
   "source": [
    "print(\"[INFO] computing face detections...\")\n",
    "faceNet.setInput(blob)\n",
    "detections = faceNet.forward()"
   ]
  },
  {
   "cell_type": "code",
   "execution_count": 7,
   "metadata": {},
   "outputs": [
    {
     "name": "stdout",
     "output_type": "stream",
     "text": [
      "[AGE] (25-32): 94.46%\n"
     ]
    }
   ],
   "source": [
    "for i in range(0, detections.shape[2]):\n",
    "\tconfidence = detections[0, 0, i, 2]\n",
    "\tif confidence > 0.5:\n",
    "\t\tbox = detections[0, 0, i, 3:7] * np.array([w, h, w, h])\n",
    "\t\t(startX, startY, endX, endY) = box.astype(\"int\")\n",
    "\n",
    "\t\tface = image[startY:endY, startX:endX]\n",
    "\t\tfaceBlob = cv2.dnn.blobFromImage(face, 1.0, (227, 227),\n",
    "\t\t\t(78.4263377603, 87.7689143744, 114.895847746),\n",
    "\t\t\tswapRB=False)\n",
    "\n",
    "\n",
    "\t\tageNet.setInput(faceBlob)\n",
    "\t\tpreds = ageNet.forward()\n",
    "\t\ti = preds[0].argmax()\n",
    "\t\tage = AGE_BUCKETS[i]\n",
    "\t\tageConfidence = preds[0][i]\n",
    "\n",
    "\t\ttext = \"{}: {:.2f}%\".format(age, ageConfidence * 100)\n",
    "\t\tprint(\"[AGE] {}\".format(text))\n",
    "\n",
    "\t\ty = startY - 10 if startY - 10 > 10 else startY + 10\n",
    "\t\tcv2.rectangle(image, (startX, startY), (endX, endY),\n",
    "\t\t\t(0, 0, 255), 2)\n",
    "\t\tcv2.putText(image, text, (startX, y),\n",
    "\t\t\tcv2.FONT_HERSHEY_SIMPLEX, 0.45, (0, 0, 255), 2)\n",
    "\n",
    "\n"
   ]
  },
  {
   "cell_type": "code",
   "execution_count": null,
   "metadata": {},
   "outputs": [],
   "source": [
    "cv2.imshow(\"Image\", image)\n",
    "cv2.waitKey(0)"
   ]
  }
 ],
 "metadata": {
  "kernelspec": {
   "display_name": "Python (myenv)",
   "language": "python",
   "name": "my-env"
  },
  "language_info": {
   "codemirror_mode": {
    "name": "ipython",
    "version": 3
   },
   "file_extension": ".py",
   "mimetype": "text/x-python",
   "name": "python",
   "nbconvert_exporter": "python",
   "pygments_lexer": "ipython3",
   "version": "3.7.7"
  }
 },
 "nbformat": 4,
 "nbformat_minor": 4
}
